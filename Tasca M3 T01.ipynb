{
 "cells": [
  {
   "cell_type": "markdown",
   "id": "d90efe26",
   "metadata": {},
   "source": [
    "## - Exercici 1\n",
    "Crea una funció que donat un Array d’una dimensió, et faci un resum estadístic bàsic de les dades. Si detecta que l’array té més d’una dimensió, ha de mostrar un missatge d’error."
   ]
  },
  {
   "cell_type": "code",
   "execution_count": 2,
   "id": "5d7dd453",
   "metadata": {},
   "outputs": [],
   "source": [
    "import numpy as np\n",
    "\n",
    "def resum_estadistic(data):\n",
    "    if len(np.shape(data)) != 1:\n",
    "        return \"Error: l'array ha de tenir una dimensió!.\"\n",
    "    else:\n",
    "        mitja = np.mean(data)\n",
    "        mitjana = np.median(data)\n",
    "        desviacio_estandard = np.std(data)\n",
    "        variancia = np.var(data)\n",
    "        valor_maxim = np.max(data)\n",
    "        valor_minim = np.min(data)\n",
    "        return f\"Mitja: {mitja}, Mitjana: {mitjana},Desviació estàndard: {desviacio_estandard}, Variància:{variancia}, Valor màxim:{valor_maxim}, Valor mínim:{valor_minim}\""
   ]
  },
  {
   "cell_type": "code",
   "execution_count": 3,
   "id": "b57a52f6",
   "metadata": {},
   "outputs": [
    {
     "data": {
      "text/plain": [
       "'Mitja: 9.142857142857142, Mitjana: 6.0,Desviació estàndard: 10.789261479142404, Variància:116.40816326530613, Valor màxim:35, Valor mínim:1'"
      ]
     },
     "execution_count": 3,
     "metadata": {},
     "output_type": "execute_result"
    }
   ],
   "source": [
    "resum_estadistic([1,2,35,6,6,7,7])"
   ]
  },
  {
   "cell_type": "code",
   "execution_count": 4,
   "id": "76e85b23",
   "metadata": {},
   "outputs": [
    {
     "data": {
      "text/plain": [
       "\"Error: l'array ha de tenir una dimensió!.\""
      ]
     },
     "execution_count": 4,
     "metadata": {},
     "output_type": "execute_result"
    }
   ],
   "source": [
    "resum_estadistic([[1,2,35,6,6,7,7],\n",
    "                [1,3,5,6,7,7,8]])"
   ]
  },
  {
   "cell_type": "markdown",
   "id": "d1c2ac38",
   "metadata": {},
   "source": [
    "## - Exercici 2\n",
    "Crea una funció que et generi un quadrat NxN de nombres aleatoris entre el 0 i el 100.\n",
    "\n",
    "\n"
   ]
  },
  {
   "cell_type": "code",
   "execution_count": 5,
   "id": "ee768b49",
   "metadata": {},
   "outputs": [
    {
     "name": "stdout",
     "output_type": "stream",
     "text": [
      "[[28  0  8  5]\n",
      " [61 80 73  2]\n",
      " [85 91 83 28]\n",
      " [17 74 42 78]]\n"
     ]
    }
   ],
   "source": [
    "def omplir_matriu(n):\n",
    "    return np.random.randint(0, 100, size=(n, n))\n",
    "resultat = omplir_matriu(4)\n",
    "print(resultat)"
   ]
  },
  {
   "cell_type": "markdown",
   "id": "80cecc29",
   "metadata": {},
   "source": [
    "\n",
    "## - Exercici 3\n",
    "Crea una funció que donada una taula de dues dimensions (NxM), et calculi els totals per fila i els totals per columna.\n",
    "\n",
    "\n",
    "\n"
   ]
  },
  {
   "cell_type": "code",
   "execution_count": 6,
   "id": "2b80d928",
   "metadata": {},
   "outputs": [
    {
     "name": "stdout",
     "output_type": "stream",
     "text": [
      "(array([ 6, 12]), array([ 7, 11]))\n"
     ]
    }
   ],
   "source": [
    "def totals_fila_columna(taula):\n",
    "    totals_fila = np.sum(taula, axis=1)\n",
    "    totals_columna = np.sum(taula, axis=0)\n",
    "    return totals_fila, totals_columna\n",
    "resultat = totals_fila_columna([[2,4],[5,7]])\n",
    "print(resultat)"
   ]
  },
  {
   "cell_type": "markdown",
   "id": "ae4660fe",
   "metadata": {},
   "source": [
    "## - Exercici 4\n",
    "Implementa manualment una funció que calculi el coeficient de correlació. Informa-te'n sobre els seus usos i interpretació."
   ]
  },
  {
   "cell_type": "code",
   "execution_count": 21,
   "id": "c4264c10",
   "metadata": {},
   "outputs": [
    {
     "name": "stdout",
     "output_type": "stream",
     "text": [
      "0.9332565252573827\n"
     ]
    }
   ],
   "source": [
    "def coeficient_correlacio(x, y):\n",
    "    n = len(x)\n",
    "    x_mean = np.mean(x)\n",
    "    y_mean = np.mean(y)\n",
    "    x_diff = x - x_mean\n",
    "    y_diff = y - y_mean\n",
    "    numerator = np.sum(x_diff * y_diff)\n",
    "    x_diff_squared = x_diff**2\n",
    "    y_diff_squared = y_diff**2\n",
    "    denominator = np.sqrt(np.sum(x_diff_squared) * np.sum(y_diff_squared))\n",
    "    return numerator / denominator\n",
    "\n",
    "x = np.array([165,170,195])\n",
    "y = np.array([50,65,80])\n",
    "correlacio = coeficient_correlacio(x, y)\n",
    "print(correlacio)"
   ]
  },
  {
   "cell_type": "code",
   "execution_count": 23,
   "id": "4752d0ad",
   "metadata": {},
   "outputs": [
    {
     "data": {
      "text/plain": [
       "array([[1.        , 0.93325653],\n",
       "       [0.93325653, 1.        ]])"
      ]
     },
     "execution_count": 23,
     "metadata": {},
     "output_type": "execute_result"
    }
   ],
   "source": [
    "#Només per comprovar que coincideix, ho calculem amb una funció de Numpy. \n",
    "\n",
    "x = np.array([165,170,195])\n",
    "y = np.array([50,65,80])  \n",
    "np.corrcoef(x,y) "
   ]
  },
  {
   "cell_type": "markdown",
   "id": "f79d2b28",
   "metadata": {},
   "source": [
    "El coeficient de correlació mesura la relació lineal entre dues variables. Es mesura amb valors que van des del -1 al 1 i descriu la força i la direcció de la relació entre dues variables. \n",
    "\n",
    "Si el valor de correlació s'apropa a l'1, indica que la relació entre les dues variables és forta i positiva. Si una variable augmenta, l'altre també ho farà. Si pel contrari s'apropa al -1, vol dir que hi ha una correlació negativa: si una variable augmenta, l'altra disminueix i al revés. Si él coeficient de correlació s'apropa al 0, vol dir que la relació lineal és baixa o inexistent."
   ]
  }
 ],
 "metadata": {
  "kernelspec": {
   "display_name": "Python 3 (ipykernel)",
   "language": "python",
   "name": "python3"
  },
  "language_info": {
   "codemirror_mode": {
    "name": "ipython",
    "version": 3
   },
   "file_extension": ".py",
   "mimetype": "text/x-python",
   "name": "python",
   "nbconvert_exporter": "python",
   "pygments_lexer": "ipython3",
   "version": "3.9.12"
  }
 },
 "nbformat": 4,
 "nbformat_minor": 5
}
